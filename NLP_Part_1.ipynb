{
  "nbformat": 4,
  "nbformat_minor": 0,
  "metadata": {
    "colab": {
      "name": "NLP_Part_1.ipynb",
      "provenance": [],
      "collapsed_sections": []
    },
    "kernelspec": {
      "name": "python3",
      "display_name": "Python 3"
    },
    "language_info": {
      "name": "python"
    }
  },
  "cells": [
    {
      "cell_type": "markdown",
      "source": [
        "# Natural Language Processing"
      ],
      "metadata": {
        "id": "Vtrs8OYIkg1-"
      }
    },
    {
      "cell_type": "code",
      "execution_count": 3,
      "metadata": {
        "colab": {
          "base_uri": "https://localhost:8080/"
        },
        "id": "hg4LGouskYTe",
        "outputId": "73c9f4db-45dd-4b55-c4d2-e419fbe939f7"
      },
      "outputs": [
        {
          "output_type": "stream",
          "name": "stdout",
          "text": [
            "[nltk_data] Downloading package cess_esp to /root/nltk_data...\n",
            "[nltk_data]   Unzipping corpora/cess_esp.zip.\n"
          ]
        },
        {
          "output_type": "execute_result",
          "data": {
            "text/plain": [
              "True"
            ]
          },
          "metadata": {},
          "execution_count": 3
        }
      ],
      "source": [
        "#Import the module\n",
        "import nltk\n",
        "\n",
        "#download a corpus in spanish to process\n",
        "nltk.download(\"cess_esp\")"
      ]
    },
    {
      "cell_type": "markdown",
      "source": [
        "## Regular Expressions\n",
        "\n",
        "* They constitute a standardized language for defining text search strings.\n",
        "* Library of operations with regular expressions\n",
        "* Rules for writing regular expressions"
      ],
      "metadata": {
        "id": "uA5pEMS_k3gj"
      }
    },
    {
      "cell_type": "code",
      "source": [
        "#Import regular expressions module\n",
        "import re\n",
        "\n",
        "#Define a corpus in python and print it\n",
        "corpus = nltk.corpus.cess_esp.sents()\n",
        "\n",
        "print(corpus)\n",
        "print(len(corpus))"
      ],
      "metadata": {
        "colab": {
          "base_uri": "https://localhost:8080/"
        },
        "id": "aF_gBoE3kzFr",
        "outputId": "fd2c06ef-141c-4e24-d5d3-06b5b8dd5ab8"
      },
      "execution_count": 4,
      "outputs": [
        {
          "output_type": "stream",
          "name": "stdout",
          "text": [
            "[['El', 'grupo', 'estatal', 'Electricité_de_France', '-Fpa-', 'EDF', '-Fpt-', 'anunció', 'hoy', ',', 'jueves', ',', 'la', 'compra', 'del', '51_por_ciento', 'de', 'la', 'empresa', 'mexicana', 'Electricidad_Águila_de_Altamira', '-Fpa-', 'EAA', '-Fpt-', ',', 'creada', 'por', 'el', 'japonés', 'Mitsubishi_Corporation', 'para', 'poner_en_marcha', 'una', 'central', 'de', 'gas', 'de', '495', 'megavatios', '.'], ['Una', 'portavoz', 'de', 'EDF', 'explicó', 'a', 'EFE', 'que', 'el', 'proyecto', 'para', 'la', 'construcción', 'de', 'Altamira_2', ',', 'al', 'norte', 'de', 'Tampico', ',', 'prevé', 'la', 'utilización', 'de', 'gas', 'natural', 'como', 'combustible', 'principal', 'en', 'una', 'central', 'de', 'ciclo', 'combinado', 'que', 'debe', 'empezar', 'a', 'funcionar', 'en', 'mayo_del_2002', '.'], ...]\n",
            "6030\n"
          ]
        }
      ]
    },
    {
      "cell_type": "code",
      "source": [
        "#Create a list with all the words\n",
        "flatten = [w for l in corpus for w in l]\n",
        "print(len(flatten))"
      ],
      "metadata": {
        "colab": {
          "base_uri": "https://localhost:8080/"
        },
        "id": "bKOVkUQAlnBH",
        "outputId": "21e0547f-6ea6-4d13-bf6a-61db49ace721"
      },
      "execution_count": 4,
      "outputs": [
        {
          "output_type": "stream",
          "name": "stdout",
          "text": [
            "192685\n"
          ]
        }
      ]
    },
    {
      "cell_type": "markdown",
      "source": [
        "Function **re.research()**\n",
        "\n",
        "Scan through string looking for the first location where the regular expression pattern produces a match, and return a corresponding match object. "
      ],
      "metadata": {
        "id": "xcu2Aa30mivT"
      }
    },
    {
      "cell_type": "code",
      "source": [
        "#Create a list that filter if the string patron find in each word  \"es\"\n",
        "arr = [w for w in flatten if re.search(\"es\", w)]\n",
        "print(arr[:10])"
      ],
      "metadata": {
        "colab": {
          "base_uri": "https://localhost:8080/"
        },
        "id": "fj7O11fumcDO",
        "outputId": "a0b0e25d-1159-4c7b-c7db-457f8825fcb0"
      },
      "execution_count": 5,
      "outputs": [
        {
          "output_type": "stream",
          "name": "stdout",
          "text": [
            "['estatal', 'jueves', 'empresa', 'centrales', 'francesa', 'japonesa', 'millones', 'millones', 'dólares', 'millones']\n"
          ]
        }
      ]
    },
    {
      "cell_type": "code",
      "source": [
        "#the string \"$\" Matches the end of the string or just before the newline at the end of the string\n",
        "\n",
        "arr = [w for w in flatten if re.search(\"es$\", w)]\n",
        "print(arr[:10])"
      ],
      "metadata": {
        "colab": {
          "base_uri": "https://localhost:8080/"
        },
        "id": "sfi2uTdxnrl5",
        "outputId": "8a9446d5-ff2e-4adf-b69f-c289faa86dd2"
      },
      "execution_count": 6,
      "outputs": [
        {
          "output_type": "stream",
          "name": "stdout",
          "text": [
            "['jueves', 'centrales', 'millones', 'millones', 'dólares', 'millones', 'millones', 'dólares', 'es', 'militantes']\n"
          ]
        }
      ]
    },
    {
      "cell_type": "code",
      "source": [
        "#The string \"^\" Matches the start of the string\n",
        "arr = [w for w in flatten if re.search(\"^es\", w)] \n",
        "print(arr[:10])"
      ],
      "metadata": {
        "colab": {
          "base_uri": "https://localhost:8080/"
        },
        "id": "jojsvOCpoYsT",
        "outputId": "ae4ff5a9-8c39-47a5-e0fe-c34b20d59d06"
      },
      "execution_count": 7,
      "outputs": [
        {
          "output_type": "stream",
          "name": "stdout",
          "text": [
            "['estatal', 'es', 'esta', 'esta', 'eso', 'es', 'especial', 'especialmente', 'este', 'estas']\n"
          ]
        }
      ]
    },
    {
      "cell_type": "code",
      "source": [
        "#Ranges of characters can be indicated by giving two characters and separating them by a '-', Range [a-z]\n",
        "\n",
        "arr = [w for w in flatten if re.search(\"^[a-d]\", w)]\n",
        "print(arr[:10])"
      ],
      "metadata": {
        "colab": {
          "base_uri": "https://localhost:8080/"
        },
        "id": "MoxAvGNVowFH",
        "outputId": "2c0f6bb2-ab13-4ea7-fa47-b9e76bb1927d"
      },
      "execution_count": 8,
      "outputs": [
        {
          "output_type": "stream",
          "name": "stdout",
          "text": [
            "['anunció', 'compra', 'del', 'de', 'creada', 'central', 'de', 'de', 'de', 'a']\n"
          ]
        }
      ]
    },
    {
      "cell_type": "code",
      "source": [
        "#Characters can be listed individually, e.g. [amk] will match 'a', 'm', or 'k'. \n",
        "\n",
        "arr = [w for w in flatten if re.search(\"^[amk]\", w)]\n",
        "print(arr[:10])"
      ],
      "metadata": {
        "colab": {
          "base_uri": "https://localhost:8080/"
        },
        "id": "vPoMPAuGpkoR",
        "outputId": "b16ae195-2fe3-4fbc-becd-6ef61952533f"
      },
      "execution_count": 9,
      "outputs": [
        {
          "output_type": "stream",
          "name": "stdout",
          "text": [
            "['anunció', 'mexicana', 'megavatios', 'a', 'al', 'a', 'mayo_del_2002', 'a', 'acuerdo', 'años']\n"
          ]
        }
      ]
    },
    {
      "cell_type": "markdown",
      "source": [
        "* \"*\" Causes the resulting RE to match 0 or more repetitions of the preceding RE, as many repetitions as are possible. ab* will match ‘a’, ‘ab’, or ‘a’ followed by any number of ‘b’s.\n",
        "\n",
        "* \"+\" Causes the resulting RE to match 1 or more repetitions of the preceding RE. ab+ will match ‘a’ followed by any non-zero number of ‘b’s; it will not match just ‘a’."
      ],
      "metadata": {
        "id": "cYARkSvwqVX0"
      }
    },
    {
      "cell_type": "code",
      "source": [
        "# \"()\" Matches whatever regular expression is inside the parentheses, and indicates the start and end of a group;\n",
        "arr = [w for w in flatten if re.search(\"^(no)+\", w)]\n",
        "print(arr[:10])"
      ],
      "metadata": {
        "colab": {
          "base_uri": "https://localhost:8080/"
        },
        "id": "A8o-335gpvl3",
        "outputId": "08500641-abbc-40cb-dcd3-a46e57d82b50"
      },
      "execution_count": 11,
      "outputs": [
        {
          "output_type": "stream",
          "name": "stdout",
          "text": [
            "['norte', 'no', 'no', 'noche', 'no', 'no', 'notificación', 'no', 'no', 'no']\n"
          ]
        }
      ]
    },
    {
      "cell_type": "markdown",
      "source": [
        "## Text Normalization (Regular expression applications)"
      ],
      "metadata": {
        "id": "8sIoRDY0rI6g"
      }
    },
    {
      "cell_type": "code",
      "source": [
        "#If we try to assign it to a normal string, the \\n will be treated as a new line.\n",
        "print(\"Esta es una \\nprueba\")\n",
        "\n",
        "# Python raw string is created by prefixing a string literal with ‘r’ or ‘R’. Python raw string treats backslash (\\) as a literal character. \n",
        "#This is useful when we want to have a string that contains backslash and don’t want it to be treated as an escape character.\n",
        "\n",
        "print(r\"Esto es una \\nprueba\")\n"
      ],
      "metadata": {
        "colab": {
          "base_uri": "https://localhost:8080/"
        },
        "id": "0PyhyrT8q6oc",
        "outputId": "c8f58ba0-5797-434d-a2ad-c8ff647c7dc4"
      },
      "execution_count": 12,
      "outputs": [
        {
          "output_type": "stream",
          "name": "stdout",
          "text": [
            "Esta es una \n",
            "prueba\n",
            "Esto es una \\nprueba\n"
          ]
        }
      ]
    },
    {
      "cell_type": "markdown",
      "source": [
        "## Tokenization \n",
        "\n",
        "is the process of tokenizing or splitting a string, text into a list of tokens."
      ],
      "metadata": {
        "id": "H46mSR5vsS06"
      }
    },
    {
      "cell_type": "code",
      "source": [
        "text = \"\"\"Cuando sea el rey del mundo (imaginaba en su cabeza) no tendré que preocuparme por estas bobadas.\n",
        "          Era solo un niño de 7 años, pero pensaba que podia ser cualquier cosa que su imaginación le permitiera\n",
        "          visualizar en su cabeza ...\"\"\"\n",
        "\n",
        "#Case 1\n",
        "\n",
        "#Split string by the occurrences of pattern. If capturing parentheses are used in pattern, \n",
        "#then the text of all groups in the pattern are also returned as part of the resulting list.\n",
        "\n",
        "print(re.split(r\" \", text))"
      ],
      "metadata": {
        "colab": {
          "base_uri": "https://localhost:8080/"
        },
        "id": "PYcoXKtesOQm",
        "outputId": "3ba29776-ebf0-4f5f-bf65-c87cb7d58df0"
      },
      "execution_count": 17,
      "outputs": [
        {
          "output_type": "stream",
          "name": "stdout",
          "text": [
            "['Cuando', 'sea', 'el', 'rey', 'del', 'mundo', '(imaginaba', 'en', 'su', 'cabeza)', 'no', 'tendré', 'que', 'preocuparme', 'por', 'estas', 'bobadas.\\n', '', '', '', '', '', '', '', '', '', 'Era', 'solo', 'un', 'niño', 'de', '7', 'años,', 'pero', 'pensaba', 'que', 'podia', 'ser', 'cualquier', 'cosa', 'que', 'su', 'imaginación', 'le', 'permitiera\\n', '', '', '', '', '', '', '', '', '', 'visualizar', 'en', 'su', 'cabeza', '...']\n"
          ]
        }
      ]
    },
    {
      "cell_type": "code",
      "source": [
        "#Case 2: Using regular expressions\n",
        "# - Eliminate blank spaces, lines jumps, and tabular\n",
        "\n",
        "print(re.split(r\"[ \\t\\n]+\", text))"
      ],
      "metadata": {
        "colab": {
          "base_uri": "https://localhost:8080/"
        },
        "id": "AU-ZnYXps-Ct",
        "outputId": "5d9c7da0-061e-4d52-fab6-38c035a9132d"
      },
      "execution_count": 18,
      "outputs": [
        {
          "output_type": "stream",
          "name": "stdout",
          "text": [
            "['Cuando', 'sea', 'el', 'rey', 'del', 'mundo', '(imaginaba', 'en', 'su', 'cabeza)', 'no', 'tendré', 'que', 'preocuparme', 'por', 'estas', 'bobadas.', 'Era', 'solo', 'un', 'niño', 'de', '7', 'años,', 'pero', 'pensaba', 'que', 'podia', 'ser', 'cualquier', 'cosa', 'que', 'su', 'imaginación', 'le', 'permitiera', 'visualizar', 'en', 'su', 'cabeza', '...']\n"
          ]
        }
      ]
    },
    {
      "cell_type": "code",
      "source": [
        "#Case 3: Using \\W Matches any character which is not a word character. \n",
        "# - Parenthesis\n",
        "\n",
        "print(re.split(r\"[\\W\\t\\n]+\", text))"
      ],
      "metadata": {
        "colab": {
          "base_uri": "https://localhost:8080/"
        },
        "id": "0z24L3Tnu6SN",
        "outputId": "7bad5b3b-6c88-4426-eca4-08eaf0472815"
      },
      "execution_count": 19,
      "outputs": [
        {
          "output_type": "stream",
          "name": "stdout",
          "text": [
            "['Cuando', 'sea', 'el', 'rey', 'del', 'mundo', 'imaginaba', 'en', 'su', 'cabeza', 'no', 'tendré', 'que', 'preocuparme', 'por', 'estas', 'bobadas', 'Era', 'solo', 'un', 'niño', 'de', '7', 'años', 'pero', 'pensaba', 'que', 'podia', 'ser', 'cualquier', 'cosa', 'que', 'su', 'imaginación', 'le', 'permitiera', 'visualizar', 'en', 'su', 'cabeza', '']\n"
          ]
        }
      ]
    },
    {
      "cell_type": "markdown",
      "source": [
        "## Tokenizador de NLTK"
      ],
      "metadata": {
        "id": "ka-6wm-8DxC9"
      }
    },
    {
      "cell_type": "code",
      "source": [
        "text = \"En los E.U. esa postal vale $15.50 ...\""
      ],
      "metadata": {
        "id": "azZl8Ur-vPx3"
      },
      "execution_count": 8,
      "outputs": []
    },
    {
      "cell_type": "code",
      "source": [
        "# the disadvantage in this case is that it does not recognize the acronyms, the price value and split numbers\n",
        "\n",
        "print(re.split(r\"[ \\W\\t\\n]+\", text))"
      ],
      "metadata": {
        "colab": {
          "base_uri": "https://localhost:8080/"
        },
        "id": "2OjnWdCZD6b-",
        "outputId": "5950a36b-acc5-4746-8943-7e655c347574"
      },
      "execution_count": 9,
      "outputs": [
        {
          "output_type": "stream",
          "name": "stdout",
          "text": [
            "['En', 'los', 'E', 'U', 'esa', 'postal', 'vale', '15', '50', '']\n"
          ]
        }
      ]
    },
    {
      "cell_type": "code",
      "source": [
        "#This regular expresion is helpfull\n",
        "\n",
        "pattern = r\"\"\"(?x)                  #enable to use regular expressions\n",
        "              (?:[A-Z]\\.)+          #Abreviaturas\n",
        "              | \\w+(?:-\\w+)*        #Palabras con guiones opcionales\n",
        "              | \\$?\\d+(?:\\.\\d+)?%?  #Monedas y porcentajes\n",
        "              | \\.\\.\\.              #Puntos suspensivos\n",
        "              | [][.,;\"?():-_`]     #Tokens de separación, incluyendo []\n",
        "              \"\"\"\n",
        "nltk.regexp_tokenize(text, pattern)"
      ],
      "metadata": {
        "colab": {
          "base_uri": "https://localhost:8080/"
        },
        "id": "xh_B1Oa_EWOr",
        "outputId": "40edc616-db0c-4ac1-9b09-08a59eaa9716"
      },
      "execution_count": 10,
      "outputs": [
        {
          "output_type": "execute_result",
          "data": {
            "text/plain": [
              "['En', 'los', 'E.U.', 'esa', 'postal', 'vale', '$15.50', '...']"
            ]
          },
          "metadata": {},
          "execution_count": 10
        }
      ]
    },
    {
      "cell_type": "code",
      "source": [
        ""
      ],
      "metadata": {
        "id": "JVe-XmwwF7B8"
      },
      "execution_count": null,
      "outputs": []
    }
  ]
}